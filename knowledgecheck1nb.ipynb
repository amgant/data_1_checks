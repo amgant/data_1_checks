{
 "cells": [
  {
   "cell_type": "code",
   "execution_count": 1,
   "id": "6a33ef96",
   "metadata": {},
   "outputs": [
    {
     "name": "stdout",
     "output_type": "stream",
     "text": [
      "hello world!\n",
      "['Uno', 2, 'tres', 4.9]\n",
      "tres\n",
      "{'Pi': 3.14, 'seasonal depression': 100}\n",
      "The volume of my seasonal depression is already on 100\n",
      "('Maya Rudolph', 'Kate Mckinnon', 'Melissa Villasenor', 'Kristin Wiig')\n",
      "Kristin Wiig\n",
      "thank you for your time! :)\n"
     ]
    }
   ],
   "source": [
    "import knowledgecheck1"
   ]
  },
  {
   "cell_type": "code",
   "execution_count": null,
   "id": "db01c28c",
   "metadata": {},
   "outputs": [],
   "source": []
  }
 ],
 "metadata": {
  "kernelspec": {
   "display_name": "Python 3 (ipykernel)",
   "language": "python",
   "name": "python3"
  },
  "language_info": {
   "codemirror_mode": {
    "name": "ipython",
    "version": 3
   },
   "file_extension": ".py",
   "mimetype": "text/x-python",
   "name": "python",
   "nbconvert_exporter": "python",
   "pygments_lexer": "ipython3",
   "version": "3.9.12"
  }
 },
 "nbformat": 4,
 "nbformat_minor": 5
}
